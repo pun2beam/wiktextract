{
  "nbformat": 4,
  "nbformat_minor": 0,
  "metadata": {
    "colab": {
      "provenance": [],
      "authorship_tag": "ABX9TyNqSDh4FwoMhibp0ozx7IDl",
      "include_colab_link": true
    },
    "kernelspec": {
      "name": "python3",
      "display_name": "Python 3"
    },
    "language_info": {
      "name": "python"
    }
  },
  "cells": [
    {
      "cell_type": "markdown",
      "metadata": {
        "id": "view-in-github",
        "colab_type": "text"
      },
      "source": [
        "<a href=\"https://colab.research.google.com/github/pun2beam/wiktextract/blob/master/Untitled4.ipynb\" target=\"_parent\"><img src=\"https://colab.research.google.com/assets/colab-badge.svg\" alt=\"Open In Colab\"/></a>"
      ]
    },
    {
      "cell_type": "code",
      "execution_count": null,
      "metadata": {
        "id": "Sv2BbMVi8kXt"
      },
      "outputs": [],
      "source": [
        "!git clone https://github.com/pun2beam/wiktextract.git"
      ]
    },
    {
      "cell_type": "code",
      "source": [
        "%cd /content/wiktextract/\n",
        "!python -m pip install -e ."
      ],
      "metadata": {
        "id": "kU0DwwxT_hQO"
      },
      "execution_count": null,
      "outputs": []
    },
    {
      "cell_type": "code",
      "source": [
        "%cd /content/wiktextract/\n",
        "!git pull"
      ],
      "metadata": {
        "id": "4Jj9SM7b8393"
      },
      "execution_count": null,
      "outputs": []
    },
    {
      "cell_type": "code",
      "source": [
        "!python tools/fetch_page.py lay --edition en --language-code en --db-path en-cache.sqlite --print-debug --quiet --timeout 60 --out lay.json > lay.log"
      ],
      "metadata": {
        "id": "BujFlI-p8wXP"
      },
      "execution_count": null,
      "outputs": []
    }
  ]
}